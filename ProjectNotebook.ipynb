{
 "cells": [
  {
   "cell_type": "markdown",
   "id": "835afbe5",
   "metadata": {},
   "source": [
    "# COGS 18 Project: Animal Battle Royale"
   ]
  },
  {
   "cell_type": "markdown",
   "id": "f38c1246",
   "metadata": {},
   "source": [
    "## Description"
   ]
  },
  {
   "cell_type": "markdown",
   "id": "61099346",
   "metadata": {},
   "source": [
    "In this project, I extended on the artificial agents assignment and created an Animal Battle Royale. Instead of having just a few bots that wander around the board, we can create instances of different animals that will battle when they are on the same position on the board. Every animal has different moving habits and attacks, and they are spread onto the board by random at the start of the game (Note that only one animal can be on a certain position except for the first round)."
   ]
  },
  {
   "cell_type": "markdown",
   "id": "dca8efa7",
   "metadata": {},
   "source": [
    "For the battle part of this battle royale, there are 4 possible attacks: `['none', 'roar', 'bump', 'bite']`. These attack can be considered similarly to rock paper scissors, such that 'roar' < 'bump' < 'bite' < 'roar', and all three of these can beat 'none'."
   ]
  },
  {
   "cell_type": "markdown",
   "id": "c1193a83",
   "metadata": {},
   "source": [
    "When we start the board, the board will keep running until either there is only one species left or when we have reached the predetermined iterations count. If there is only one species left, that species wins the battle royale. If there is more than one species left when the game halts, that means there is a tie between some species. "
   ]
  },
  {
   "cell_type": "markdown",
   "id": "334534d4",
   "metadata": {},
   "source": [
    " "
   ]
  },
  {
   "cell_type": "markdown",
   "id": "ef648ad2",
   "metadata": {},
   "source": [
    "The following is a quick description of each species: \n",
    "- Dog - Dogs are very spontaneous and attack randomly. \n",
    "- Turtle - Turtles are slow so they only move once every two rounds, and they don't every attack other animals. \n",
    "- Frog - Frogs jump double the distance and only bump their opponents.\n",
    "- Eagle - Eagles can fly to any position on the board and attack its opponent\n",
    "- Bear - Bears rotate between the three offensive attacks (attacks excluding 'none').\n",
    "- Lion - Lions walk in the same direction for 4 rounds and only roar or bites when they attack.\n",
    "- Snake - Snakes stay in the same position and bites any trespassers. However they can't fight back agaist the flying eagles. "
   ]
  },
  {
   "cell_type": "markdown",
   "id": "9a311da1",
   "metadata": {},
   "source": [
    " "
   ]
  },
  {
   "cell_type": "markdown",
   "id": "d6afc7f2",
   "metadata": {},
   "source": [
    "## Setup"
   ]
  },
  {
   "cell_type": "code",
   "execution_count": 2,
   "id": "a107acd1",
   "metadata": {},
   "outputs": [],
   "source": [
    "from modules.classes import *\n",
    "from modules.functions import play_board"
   ]
  },
  {
   "cell_type": "markdown",
   "id": "95852ae2",
   "metadata": {},
   "source": [
    " "
   ]
  },
  {
   "cell_type": "markdown",
   "id": "50d58829",
   "metadata": {},
   "source": [
    "## Run Code"
   ]
  },
  {
   "cell_type": "markdown",
   "id": "f94852b3",
   "metadata": {},
   "source": [
    "We can setup the set of animals as follows:"
   ]
  },
  {
   "cell_type": "code",
   "execution_count": 3,
   "id": "8f06e856",
   "metadata": {},
   "outputs": [
    {
     "name": "stdout",
     "output_type": "stream",
     "text": [
      ". . B . .\n",
      ". . . . .\n",
      ". . . . .\n",
      ". . D . .\n",
      ". . . . .\n",
      "\n",
      "Winner: dog!!!!\n"
     ]
    }
   ],
   "source": [
    "# Setup the set of animals\n",
    "# Adds five of every animal to the set\n",
    "# Replace with your own set of animals!!\n",
    "animals = set({})\n",
    "for i in range(5):\n",
    "    animals = animals.union({Dog(), Turtle(), Frog(), Eagle(), Bear(), Lion(), Snake()})"
   ]
  },
  {
   "cell_type": "markdown",
   "id": "dee28963",
   "metadata": {},
   "source": [
    "We can play the board by calling `play_board()` like below:"
   ]
  },
  {
   "cell_type": "code",
   "execution_count": null,
   "id": "e1583d5b",
   "metadata": {},
   "outputs": [],
   "source": [
    "# Play around with different parameters\n",
    "play_board(animals, grid_size = (5, 5), n_iter = 100, sleep_time = 0.3)"
   ]
  },
  {
   "cell_type": "markdown",
   "id": "0e450cfc",
   "metadata": {},
   "source": [
    "## Testing"
   ]
  },
  {
   "cell_type": "markdown",
   "id": "9b24c4e6",
   "metadata": {},
   "source": [
    "Run the following cell to run `test_functions.py`:"
   ]
  },
  {
   "cell_type": "code",
   "execution_count": 5,
   "id": "78b399f7",
   "metadata": {},
   "outputs": [
    {
     "name": "stdout",
     "output_type": "stream",
     "text": [
      "\u001b[1m============================= test session starts ==============================\u001b[0m\n",
      "platform linux -- Python 3.9.5, pytest-7.4.4, pluggy-1.3.0\n",
      "rootdir: /home/kgsun/Final-Project/MyProjectFolder\n",
      "plugins: anyio-3.2.1\n",
      "collected 4 items                                                              \u001b[0m\n",
      "\n",
      "modules/test_functions.py \u001b[32m.\u001b[0m\u001b[32m.\u001b[0m\u001b[32m.\u001b[0m\u001b[32m.\u001b[0m\u001b[32m                                           [100%]\u001b[0m\n",
      "\n",
      "\u001b[32m============================== \u001b[32m\u001b[1m4 passed\u001b[0m\u001b[32m in 0.34s\u001b[0m\u001b[32m ===============================\u001b[0m\n"
     ]
    }
   ],
   "source": [
    "!python -m pytest"
   ]
  },
  {
   "cell_type": "markdown",
   "id": "4bd0ff28",
   "metadata": {},
   "source": [
    " "
   ]
  },
  {
   "cell_type": "markdown",
   "id": "1b3e32b0",
   "metadata": {},
   "source": [
    "## Extra Credit"
   ]
  },
  {
   "cell_type": "markdown",
   "id": "25542263",
   "metadata": {},
   "source": [
    "In this project, I explored ploymorphism and inheritence when implementing the class structure of the animals. Despite having some programming experience beforehand, I am completely new to python, therefore I had to read a lot of documentation in the process of researching. In the end, polymorphism proved to be very useful because I could call methods such as the `Attack()` method without knowing which species of animal I was working with since they all inherited the `Animals` class. "
   ]
  },
  {
   "cell_type": "markdown",
   "id": "9b6cf8d1",
   "metadata": {},
   "source": [
    " "
   ]
  },
  {
   "cell_type": "markdown",
   "id": "bf6b9970",
   "metadata": {},
   "source": [
    "## Github Repository"
   ]
  },
  {
   "cell_type": "markdown",
   "id": "873f9bc3",
   "metadata": {},
   "source": [
    "https://github.com/kevinsun0904/AnimalBattleRoyale"
   ]
  }
 ],
 "metadata": {
  "kernelspec": {
   "display_name": "Python 3 (ipykernel)",
   "language": "python",
   "name": "python3"
  },
  "language_info": {
   "codemirror_mode": {
    "name": "ipython",
    "version": 3
   },
   "file_extension": ".py",
   "mimetype": "text/x-python",
   "name": "python",
   "nbconvert_exporter": "python",
   "pygments_lexer": "ipython3",
   "version": "3.9.5"
  }
 },
 "nbformat": 4,
 "nbformat_minor": 5
}
